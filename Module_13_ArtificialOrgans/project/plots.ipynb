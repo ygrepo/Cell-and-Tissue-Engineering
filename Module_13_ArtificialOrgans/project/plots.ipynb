{
 "cells": [
  {
   "cell_type": "code",
   "execution_count": 1,
   "id": "cf4c3d6d-43bc-4a82-8db6-2d65daad8398",
   "metadata": {},
   "outputs": [],
   "source": [
    "import altair as alt\n",
    "import pandas as pd"
   ]
  },
  {
   "cell_type": "code",
   "execution_count": 2,
   "id": "8f67604f-5b77-4760-9254-bf828023ac6a",
   "metadata": {},
   "outputs": [],
   "source": [
    "df_NLI_6 = pd.DataFrame({\n",
    "    'NLI': ['2', '1', '0', '-1', '-2', '<-2'],\n",
    "    'N': [2, 3, 3, 4, 3, 1],\n",
    "})"
   ]
  },
  {
   "cell_type": "code",
   "execution_count": 3,
   "id": "4197ee94-9aeb-42fd-b4f8-0ff6d5fc458b",
   "metadata": {},
   "outputs": [
    {
     "data": {
      "text/html": [
       "<div>\n",
       "<style scoped>\n",
       "    .dataframe tbody tr th:only-of-type {\n",
       "        vertical-align: middle;\n",
       "    }\n",
       "\n",
       "    .dataframe tbody tr th {\n",
       "        vertical-align: top;\n",
       "    }\n",
       "\n",
       "    .dataframe thead th {\n",
       "        text-align: right;\n",
       "    }\n",
       "</style>\n",
       "<table border=\"1\" class=\"dataframe\">\n",
       "  <thead>\n",
       "    <tr style=\"text-align: right;\">\n",
       "      <th></th>\n",
       "      <th>NLI</th>\n",
       "      <th>N</th>\n",
       "      <th>Percent</th>\n",
       "    </tr>\n",
       "  </thead>\n",
       "  <tbody>\n",
       "    <tr>\n",
       "      <th>0</th>\n",
       "      <td>2</td>\n",
       "      <td>2</td>\n",
       "      <td>12.50</td>\n",
       "    </tr>\n",
       "    <tr>\n",
       "      <th>1</th>\n",
       "      <td>1</td>\n",
       "      <td>3</td>\n",
       "      <td>18.75</td>\n",
       "    </tr>\n",
       "    <tr>\n",
       "      <th>2</th>\n",
       "      <td>0</td>\n",
       "      <td>3</td>\n",
       "      <td>18.75</td>\n",
       "    </tr>\n",
       "    <tr>\n",
       "      <th>3</th>\n",
       "      <td>-1</td>\n",
       "      <td>4</td>\n",
       "      <td>25.00</td>\n",
       "    </tr>\n",
       "    <tr>\n",
       "      <th>4</th>\n",
       "      <td>-2</td>\n",
       "      <td>3</td>\n",
       "      <td>18.75</td>\n",
       "    </tr>\n",
       "    <tr>\n",
       "      <th>5</th>\n",
       "      <td>&lt;-2</td>\n",
       "      <td>1</td>\n",
       "      <td>6.25</td>\n",
       "    </tr>\n",
       "  </tbody>\n",
       "</table>\n",
       "</div>"
      ],
      "text/plain": [
       "   NLI  N  Percent\n",
       "0    2  2    12.50\n",
       "1    1  3    18.75\n",
       "2    0  3    18.75\n",
       "3   -1  4    25.00\n",
       "4   -2  3    18.75\n",
       "5  <-2  1     6.25"
      ]
     },
     "execution_count": 3,
     "metadata": {},
     "output_type": "execute_result"
    }
   ],
   "source": [
    "df_NLI_6['Percent']=df_NLI_6[\"N\"]/df_NLI_6[\"N\"].sum()*100\n",
    "df_NLI_6"
   ]
  },
  {
   "cell_type": "code",
   "execution_count": 4,
   "id": "81e14e4a-9d67-4a46-bdcd-1565a27a4f1c",
   "metadata": {},
   "outputs": [],
   "source": [
    "df_NLI_12 = pd.DataFrame({\n",
    "    'NLI': ['2', '1', '0', '-1', '-2', '<-2'],\n",
    "    'N': [1, 5, 3, 4, 1, 1],\n",
    "})"
   ]
  },
  {
   "cell_type": "code",
   "execution_count": 5,
   "id": "bfcc4fd2-a72f-4c9f-bc9c-1eb7e872bb1c",
   "metadata": {},
   "outputs": [
    {
     "data": {
      "text/html": [
       "<div>\n",
       "<style scoped>\n",
       "    .dataframe tbody tr th:only-of-type {\n",
       "        vertical-align: middle;\n",
       "    }\n",
       "\n",
       "    .dataframe tbody tr th {\n",
       "        vertical-align: top;\n",
       "    }\n",
       "\n",
       "    .dataframe thead th {\n",
       "        text-align: right;\n",
       "    }\n",
       "</style>\n",
       "<table border=\"1\" class=\"dataframe\">\n",
       "  <thead>\n",
       "    <tr style=\"text-align: right;\">\n",
       "      <th></th>\n",
       "      <th>NLI</th>\n",
       "      <th>N</th>\n",
       "      <th>Percent</th>\n",
       "    </tr>\n",
       "  </thead>\n",
       "  <tbody>\n",
       "    <tr>\n",
       "      <th>0</th>\n",
       "      <td>2</td>\n",
       "      <td>1</td>\n",
       "      <td>6.666667</td>\n",
       "    </tr>\n",
       "    <tr>\n",
       "      <th>1</th>\n",
       "      <td>1</td>\n",
       "      <td>5</td>\n",
       "      <td>33.333333</td>\n",
       "    </tr>\n",
       "    <tr>\n",
       "      <th>2</th>\n",
       "      <td>0</td>\n",
       "      <td>3</td>\n",
       "      <td>20.000000</td>\n",
       "    </tr>\n",
       "    <tr>\n",
       "      <th>3</th>\n",
       "      <td>-1</td>\n",
       "      <td>4</td>\n",
       "      <td>26.666667</td>\n",
       "    </tr>\n",
       "    <tr>\n",
       "      <th>4</th>\n",
       "      <td>-2</td>\n",
       "      <td>1</td>\n",
       "      <td>6.666667</td>\n",
       "    </tr>\n",
       "    <tr>\n",
       "      <th>5</th>\n",
       "      <td>&lt;-2</td>\n",
       "      <td>1</td>\n",
       "      <td>6.666667</td>\n",
       "    </tr>\n",
       "  </tbody>\n",
       "</table>\n",
       "</div>"
      ],
      "text/plain": [
       "   NLI  N    Percent\n",
       "0    2  1   6.666667\n",
       "1    1  5  33.333333\n",
       "2    0  3  20.000000\n",
       "3   -1  4  26.666667\n",
       "4   -2  1   6.666667\n",
       "5  <-2  1   6.666667"
      ]
     },
     "execution_count": 5,
     "metadata": {},
     "output_type": "execute_result"
    }
   ],
   "source": [
    "df_NLI_12['Percent']=df_NLI_12[\"N\"]/df_NLI_12[\"N\"].sum()*100\n",
    "df_NLI_12"
   ]
  },
  {
   "cell_type": "code",
   "execution_count": 6,
   "id": "e9844320-2952-418b-b414-f230fa54a8c5",
   "metadata": {},
   "outputs": [],
   "source": [
    "df_NLI_24 = pd.DataFrame({\n",
    "    'NLI': ['2', '1', '0', '-1', '-2', '<-2'],\n",
    "    'N': [1, 2, 5, 1, 1, 1],\n",
    "})"
   ]
  },
  {
   "cell_type": "code",
   "execution_count": 7,
   "id": "4d56c540-377b-4b48-a66d-e9135bc85419",
   "metadata": {},
   "outputs": [
    {
     "data": {
      "text/html": [
       "<div>\n",
       "<style scoped>\n",
       "    .dataframe tbody tr th:only-of-type {\n",
       "        vertical-align: middle;\n",
       "    }\n",
       "\n",
       "    .dataframe tbody tr th {\n",
       "        vertical-align: top;\n",
       "    }\n",
       "\n",
       "    .dataframe thead th {\n",
       "        text-align: right;\n",
       "    }\n",
       "</style>\n",
       "<table border=\"1\" class=\"dataframe\">\n",
       "  <thead>\n",
       "    <tr style=\"text-align: right;\">\n",
       "      <th></th>\n",
       "      <th>NLI</th>\n",
       "      <th>N</th>\n",
       "      <th>Percent</th>\n",
       "    </tr>\n",
       "  </thead>\n",
       "  <tbody>\n",
       "    <tr>\n",
       "      <th>0</th>\n",
       "      <td>2</td>\n",
       "      <td>1</td>\n",
       "      <td>9.090909</td>\n",
       "    </tr>\n",
       "    <tr>\n",
       "      <th>1</th>\n",
       "      <td>1</td>\n",
       "      <td>2</td>\n",
       "      <td>18.181818</td>\n",
       "    </tr>\n",
       "    <tr>\n",
       "      <th>2</th>\n",
       "      <td>0</td>\n",
       "      <td>5</td>\n",
       "      <td>45.454545</td>\n",
       "    </tr>\n",
       "    <tr>\n",
       "      <th>3</th>\n",
       "      <td>-1</td>\n",
       "      <td>1</td>\n",
       "      <td>9.090909</td>\n",
       "    </tr>\n",
       "    <tr>\n",
       "      <th>4</th>\n",
       "      <td>-2</td>\n",
       "      <td>1</td>\n",
       "      <td>9.090909</td>\n",
       "    </tr>\n",
       "    <tr>\n",
       "      <th>5</th>\n",
       "      <td>&lt;-2</td>\n",
       "      <td>1</td>\n",
       "      <td>9.090909</td>\n",
       "    </tr>\n",
       "  </tbody>\n",
       "</table>\n",
       "</div>"
      ],
      "text/plain": [
       "   NLI  N    Percent\n",
       "0    2  1   9.090909\n",
       "1    1  2  18.181818\n",
       "2    0  5  45.454545\n",
       "3   -1  1   9.090909\n",
       "4   -2  1   9.090909\n",
       "5  <-2  1   9.090909"
      ]
     },
     "execution_count": 7,
     "metadata": {},
     "output_type": "execute_result"
    }
   ],
   "source": [
    "df_NLI_24['Percent']=df_NLI_24[\"N\"]/df_NLI_24[\"N\"].sum()*100\n",
    "df_NLI_24"
   ]
  },
  {
   "cell_type": "code",
   "execution_count": 8,
   "id": "e4d87302-7727-4e6a-a6d9-639f35fe693b",
   "metadata": {},
   "outputs": [],
   "source": [
    "import seaborn as sns\n",
    "sns.set_theme(style=\"whitegrid\")\n",
    "import matplotlib.pyplot as plt\n",
    "from  matplotlib.ticker import PercentFormatter"
   ]
  },
  {
   "cell_type": "code",
   "execution_count": 19,
   "id": "47518595-4a98-4897-b3cd-14333c885c03",
   "metadata": {},
   "outputs": [
    {
     "name": "stdout",
     "output_type": "stream",
     "text": [
      "0\n",
      "   NLI  N  Percent\n",
      "0    2  2    12.50\n",
      "1    1  3    18.75\n",
      "2    0  3    18.75\n",
      "3   -1  4    25.00\n",
      "4   -2  3    18.75\n",
      "5  <-2  1     6.25\n",
      "1\n",
      "   NLI  N    Percent\n",
      "0    2  1   6.666667\n",
      "1    1  5  33.333333\n",
      "2    0  3  20.000000\n",
      "3   -1  4  26.666667\n",
      "4   -2  1   6.666667\n",
      "5  <-2  1   6.666667\n"
     ]
    }
   ],
   "source": [
    "for i, df in enumerate([df_NLI_6, df_NLI_12]):    \n",
    "    print(i)\n",
    "    print(df)"
   ]
  },
  {
   "cell_type": "code",
   "execution_count": 26,
   "id": "729be788-2719-4f47-b3e2-c91511995952",
   "metadata": {},
   "outputs": [],
   "source": [
    "from pathlib import Path"
   ]
  },
  {
   "cell_type": "code",
   "execution_count": 30,
   "id": "55a620c2-2a98-4cb4-8418-93ba8612ff08",
   "metadata": {},
   "outputs": [
    {
     "data": {
      "image/png": "[encoded data removed]",
      "text/plain": [
       "<Figure size 1200x300 with 3 Axes>"
      ]
     },
     "metadata": {},
     "output_type": "display_data"
    }
   ],
   "source": [
    "fig, axes = plt.subplots(1, 3, figsize=(12, 3), sharey=True)\n",
    "#fig.suptitle('Initial Pokemon - 1st Generation')\n",
    "data_path = Path(\"./nli.png\")\n",
    "X_LABELS = [r\"$\\Delta$ NLI(6 mo)\",r\"$\\Delta$  NLI(12 mo)\", r\"$\\Delta$ NLI(24 mo)\"]\n",
    "for i, df in enumerate([df_NLI_6, df_NLI_12,df_NLI_24]):\n",
    "    ax_i = axes[i]\n",
    "    sns.barplot(ax=ax_i, data=df,x=\"NLI\", y=\"Percent\", )\n",
    "    #axes[0].set_title(bulbasaur.name)\n",
    "    ax_i.set_xlabel(X_LABELS[i], fontsize=15, labelpad=1)\n",
    "    if i == 0:\n",
    "        ax_i.set_ylabel(\"Percent(%)\", fontsize=15)\n",
    "    else:\n",
    "        ax_i.set_ylabel(\"\")\n",
    "        \n",
    "    total = len(df)\n",
    "    for j,p in enumerate(ax_i.patches):\n",
    "        percentage = f'{df.loc[j, \"Percent\"]:1.0f}'\n",
    "        x = p.get_x() + p.get_width() / 2 - 0.2\n",
    "        y = p.get_y() + p.get_height() + 0.2\n",
    "        ax_i.annotate(percentage, (x, y), size = 12, color=\"red\", fontweight=\"bold\")\n",
    "        \n",
    "fig.subplots_adjust(wspace=0.03)\n",
    "plt.savefig(data_path, bbox_inches='tight')\n",
    "plt.show()\n",
    "plt.close()"
   ]
  },
  {
   "cell_type": "code",
   "execution_count": null,
   "id": "37025bf2-a195-4e12-855f-7f43241999c8",
   "metadata": {},
   "outputs": [],
   "source": []
  }
 ],
 "metadata": {
  "kernelspec": {
   "display_name": "general",
   "language": "python",
   "name": "general"
  },
  "language_info": {
   "codemirror_mode": {
    "name": "ipython",
    "version": 3
   },
   "file_extension": ".py",
   "mimetype": "text/x-python",
   "name": "python",
   "nbconvert_exporter": "python",
   "pygments_lexer": "ipython3",
   "version": "3.10.0"
  }
 },
 "nbformat": 4,
 "nbformat_minor": 5
}
